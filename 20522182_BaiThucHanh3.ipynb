{
  "cells": [
    {
      "cell_type": "markdown",
      "metadata": {
        "id": "view-in-github",
        "colab_type": "text"
      },
      "source": [
        "<a href=\"https://colab.research.google.com/github/20522182/Basic_Machine_Learning/blob/main/20522182_BaiThucHanh3.ipynb\" target=\"_parent\"><img src=\"https://colab.research.google.com/assets/colab-badge.svg\" alt=\"Open In Colab\"/></a>"
      ]
    },
    {
      "cell_type": "code",
      "execution_count": null,
      "metadata": {
        "id": "aqBnWZUSeVKS"
      },
      "outputs": [],
      "source": [
        "from sklearn.datasets import load_iris\n",
        "iris = load_iris()"
      ]
    },
    {
      "cell_type": "code",
      "execution_count": null,
      "metadata": {
        "colab": {
          "base_uri": "https://localhost:8080/"
        },
        "id": "_Z0_OjVOfhGC",
        "outputId": "0e3bad60-5f93-403f-bcc1-02cb3e5cc5a2"
      },
      "outputs": [
        {
          "output_type": "stream",
          "name": "stderr",
          "text": [
            "/usr/local/lib/python3.7/dist-packages/ipykernel_launcher.py:6: DeprecationWarning: `np.int` is a deprecated alias for the builtin `int`. To silence this warning, use `int` by itself. Doing this will not modify any behavior and is safe. When replacing `np.int`, you may wish to use e.g. `np.int64` or `np.int32` to specify the precision. If you wish to review your current use, check the release note link for additional information.\n",
            "Deprecated in NumPy 1.20; for more details and guidance: https://numpy.org/devdocs/release/1.20.0-notes.html#deprecations\n",
            "  \n"
          ]
        }
      ],
      "source": [
        "# Tạo DL huấn luyện\n",
        "import numpy as np\n",
        "# Dùng thuộc tính Petal Width ở cột thứ 3 = slice data\n",
        "X = iris[\"data\"][:, 3:]\n",
        "# chuyển về nhị phân từ nhãn\n",
        "y = (iris[\"target\"] == 2).astype(np.int)"
      ]
    },
    {
      "cell_type": "code",
      "execution_count": null,
      "metadata": {
        "id": "J7zdo7NDfliq"
      },
      "outputs": [],
      "source": [
        "# Tạo DL dự đoán: sinh ngẫu nhiên  ptu tương ứng với Petal Width trong khoảng 0-3cm \n",
        "X_new = np.linspace(0, 3, 1000).reshape(-1, 1)"
      ]
    },
    {
      "cell_type": "code",
      "execution_count": null,
      "metadata": {
        "colab": {
          "base_uri": "https://localhost:8080/"
        },
        "id": "7fEStyZqgCzb",
        "outputId": "96b43302-c1b8-49bc-eb18-0873d0bfd5a2"
      },
      "outputs": [
        {
          "output_type": "execute_result",
          "data": {
            "text/plain": [
              "(150, 4)"
            ]
          },
          "metadata": {},
          "execution_count": 4
        }
      ],
      "source": [
        "iris['data'].shape"
      ]
    },
    {
      "cell_type": "code",
      "execution_count": null,
      "metadata": {
        "id": "f2jfIHzFgLUb"
      },
      "outputs": [],
      "source": [
        "# Thêm gtri bias_term vào vector X ban đầu\n",
        "import numpy as np\n",
        "#tạo vector (X.shape[0],1)\n",
        "intercept = np.ones((X.shape[0], 1))\n",
        "X = np.concatenate((intercept, X), axis=1)"
      ]
    },
    {
      "cell_type": "code",
      "execution_count": null,
      "metadata": {
        "id": "xvUzOFYImd4D"
      },
      "outputs": [],
      "source": [
        "# hàm sigmoid = 1/(1+e^-x) e^-x: vector (150,1)\n",
        "def sigmoid(z):\n",
        "    sig = 1/(1 + np.exp(-z)) # tính trên toàn bộ datasets\n",
        "    return sig\n",
        "\n",
        "# tổng sai lệch = hàm loss = -1/m tổng( ylogy^ + (1-y)log(1-y^)) m: số điểm DL \n",
        "# y: vector DL =>np.\n",
        "def compute_loss(y_true, y_hat):\n",
        "  return -np.mean(y_true * np.log(y_hat) + (1 - y_true) * np.log(1 - y_hat))\n",
        "\n",
        "# Tính gitri vector gradient descent:  1/m X^T(y-y)\n",
        "def compute_gradients(X, y_true, y_hat):\n",
        "  difference = y_hat - y_true\n",
        "  gradients_w = np.dot(X.T, difference) # Tích vô hướng hai vector \n",
        "  gradients_w = gradients_w / y_true.size #(m: số điểm DL)\n",
        "  return gradients_w\n",
        "\n",
        "def initilizer(X):\n",
        "  weights = np.zeros((X.shape[1], ))\n",
        "  return weights\n",
        "\n",
        "#Dùng gradient descent để tìm ra tham số tối ưu\n",
        "#Mỗi lần lặp để cập nhật trọng số, Tính giá trị hàm mất mát của mỗi lần lặp và đưa vào listloss\n",
        "def fit(X, y, alpha = 0.01, iter = 100):\n",
        "# khởi tạo tham số\n",
        "  w0 = initilizer(X)\n",
        "  w = w0\n",
        "  listloss = []\n",
        "  for i in range (0, iter):\n",
        "    y_hat = sigmoid(np.dot(X, w.T))\n",
        "    dw = compute_gradients (X, y, y_hat)\n",
        "    listloss.append(compute_loss(y, y_hat))\n",
        "    w = w- alpha*dw\n",
        "  return w, listloss\n"
      ]
    },
    {
      "cell_type": "code",
      "execution_count": null,
      "metadata": {
        "id": "pza0Ukoan0LL"
      },
      "outputs": [],
      "source": [
        "#inner loop\n",
        "def predict(X_new,w):\n",
        "  y_prob = sigmoid(np.dot(X_new, w.T))\n",
        "  y_pred = []\n",
        "  y_pred= [int(k>=0.5) for k in y_prob]\n",
        "  \n",
        "  #for i in y_prob:\n",
        "  #  if i >= 0.5: \n",
        "  #   y_pred.append(1)\n",
        "  #else:\n",
        "  #  y_pred.append(0)\n",
        "  return np.array(y_pred), np.array(y_prob)\n",
        " "
      ]
    },
    {
      "cell_type": "code",
      "execution_count": null,
      "metadata": {
        "id": "2njD4jIl4juk"
      },
      "outputs": [],
      "source": [
        "#----------------- Bài 1 -------------------------\n",
        "#Huấn luyện mô hình với siêu tham số alpha = 0.1 và iter = 100.\n",
        "w, listloss = fit(X, y ,alpha = 0.1, iter = 100)"
      ]
    },
    {
      "cell_type": "code",
      "source": [],
      "metadata": {
        "id": "yjGZhILGaGPp"
      },
      "execution_count": null,
      "outputs": []
    },
    {
      "cell_type": "code",
      "source": [
        "#----------------- Bài 2 ------------------------\n",
        "X_train = X[1:100]\n",
        "y_train= y[1:100]\n",
        "\n",
        "X_train_pred, X_train_prob= predict(X_train,w)\n"
      ],
      "metadata": {
        "id": "RlbkN8c8Uu1p"
      },
      "execution_count": null,
      "outputs": []
    },
    {
      "cell_type": "code",
      "source": [
        "from sklearn.metrics import accuracy_score\n",
        "accuracy_score(y_train,X_train_pred)"
      ],
      "metadata": {
        "colab": {
          "base_uri": "https://localhost:8080/"
        },
        "id": "-_sQTF4baJQU",
        "outputId": "0551827a-eb6b-466f-e22c-567a171303e5"
      },
      "execution_count": null,
      "outputs": [
        {
          "output_type": "execute_result",
          "data": {
            "text/plain": [
              "0.9797979797979798"
            ]
          },
          "metadata": {},
          "execution_count": 10
        }
      ]
    },
    {
      "cell_type": "code",
      "source": [
        "#----------------- Bài 3-------------------------\n",
        "import seaborn as sns\n",
        "sns.lineplot(data = listloss)"
      ],
      "metadata": {
        "colab": {
          "base_uri": "https://localhost:8080/",
          "height": 283
        },
        "id": "vx-VggELBLja",
        "outputId": "993aa9a0-80ac-4840-f1bb-8d3d77d75795"
      },
      "execution_count": null,
      "outputs": [
        {
          "output_type": "execute_result",
          "data": {
            "text/plain": [
              "<matplotlib.axes._subplots.AxesSubplot at 0x7f05092ccc50>"
            ]
          },
          "metadata": {},
          "execution_count": 11
        },
        {
          "output_type": "display_data",
          "data": {
            "text/plain": [
              "<Figure size 432x288 with 1 Axes>"
            ],
            "image/png": "[encoded data removed]"
          },
          "metadata": {
            "needs_background": "light"
          }
        }
      ]
    },
    {
      "cell_type": "code",
      "source": [
        "#---------------------- Bài 4 ---------------------\n",
        "intercept = np.ones((X_new.shape[0], 1))\n",
        "X_new = np.concatenate((intercept, X_new ),axis = 1)\n",
        "X_new_pred, X_new_prob= predict(X_new,w)"
      ],
      "metadata": {
        "id": "CL-KyIGTBVSM"
      },
      "execution_count": null,
      "outputs": []
    },
    {
      "cell_type": "code",
      "source": [
        "#---------------------- Bài 5 ---------------------\n",
        "#Dự đoán bài 2 = lgr\n",
        "from sklearn.linear_model import LogisticRegression\n",
        "clf = LogisticRegression(random_state=0)\n",
        "clf.fit(X, y)\n",
        "y_pred_2 = clf.predict(X_train)\n",
        "accuracy_score(y_pred_2, X_train_pred)"
      ],
      "metadata": {
        "colab": {
          "base_uri": "https://localhost:8080/"
        },
        "id": "JyQ4mz-FefKg",
        "outputId": "c5c445a4-6b77-43ba-90ba-7a46aac319a9"
      },
      "execution_count": null,
      "outputs": [
        {
          "output_type": "execute_result",
          "data": {
            "text/plain": [
              "1.0"
            ]
          },
          "metadata": {},
          "execution_count": 13
        }
      ]
    },
    {
      "cell_type": "code",
      "source": [
        "#Dự đoán bài 2 = lgr\n",
        "y_pred_4 = clf.predict(X_new)\n",
        "accuracy_score(y_pred_4, X_new_pred)"
      ],
      "metadata": {
        "colab": {
          "base_uri": "https://localhost:8080/"
        },
        "id": "Cey0oujr2UAZ",
        "outputId": "1c902fae-1985-4fec-dd44-64a2df9bc266"
      },
      "execution_count": null,
      "outputs": [
        {
          "output_type": "execute_result",
          "data": {
            "text/plain": [
              "0.987"
            ]
          },
          "metadata": {},
          "execution_count": 14
        }
      ]
    }
  ],
  "metadata": {
    "colab": {
      "provenance": [],
      "collapsed_sections": [],
      "authorship_tag": "ABX9TyNJwzlgKQg5DmzdYx9FfTd8",
      "include_colab_link": true
    },
    "kernelspec": {
      "display_name": "Python 3",
      "name": "python3"
    },
    "language_info": {
      "name": "python"
    }
  },
  "nbformat": 4,
  "nbformat_minor": 0
}