{
  "nbformat": 4,
  "nbformat_minor": 0,
  "metadata": {
    "colab": {
      "provenance": [],
      "authorship_tag": "ABX9TyMbmIk9/YpRuSWjWh49p224",
      "include_colab_link": true
    },
    "kernelspec": {
      "name": "python3",
      "display_name": "Python 3"
    },
    "language_info": {
      "name": "python"
    }
  },
  "cells": [
    {
      "cell_type": "markdown",
      "metadata": {
        "id": "view-in-github",
        "colab_type": "text"
      },
      "source": [
        "<a href=\"https://colab.research.google.com/github/20522182/Basic_Machine_Learning/blob/main/LAP04.ipynb\" target=\"_parent\"><img src=\"https://colab.research.google.com/assets/colab-badge.svg\" alt=\"Open In Colab\"/></a>"
      ]
    },
    {
      "cell_type": "markdown",
      "source": [
        "#python cơ bản"
      ],
      "metadata": {
        "id": "s5fNmFcnT1KM"
      }
    },
    {
      "cell_type": "code",
      "execution_count": 1,
      "metadata": {
        "id": "JGDjZIPWTzr_"
      },
      "outputs": [],
      "source": [
        "from sklearn.datasets import load_iris\n",
        "iris = load_iris()"
      ]
    },
    {
      "cell_type": "code",
      "source": [
        "X = iris.data[:, :2] # đối với X, ta chỉ sử dụng 2 thuộc tính sepal length và sepal width để dự đoán cho dữ liệu.\n",
        "y = iris.target # y: nhãn, gồm 3 nhãn"
      ],
      "metadata": {
        "id": "k0tV7oABoUPN"
      },
      "execution_count": 2,
      "outputs": []
    },
    {
      "cell_type": "code",
      "source": [
        "from sklearn.model_selection import train_test_split\n",
        "X_train, X_test, y_train, y_test = train_test_split(X, y,test_size=0.2)"
      ],
      "metadata": {
        "id": "CYMzLw5eruVL"
      },
      "execution_count": 3,
      "outputs": []
    },
    {
      "cell_type": "code",
      "source": [
        "#-----Bài 1: Thống kê SL nhãn trên training và test, Vẽ biểu đồ phân bố---------\n",
        "import numpy as np\n",
        "import seaborn as sns\n",
        "\n",
        "\n",
        "#Thống kê SL nhãn trên training\n",
        "print('     Training Set')\n",
        "train_setosa=X_train[y_train==0,:]\n",
        "print ('Setosa: %f' %len(train_setosa))\n",
        "train_Versicolour=X_train[y_train==1,:]\n",
        "print ('Versicolour: %f' %len(train_Versicolour))\n",
        "train_Virginica=X_train[y_train==2,:]\n",
        "print ('Virginica: %f' %len(train_Virginica))\n",
        "\n",
        "count = np.unique(y_train, return_counts=True)\n",
        "sns.barplot(x=count[0], y=count[1])\n",
        "\n",
        "\n",
        "\n"
      ],
      "metadata": {
        "colab": {
          "base_uri": "https://localhost:8080/",
          "height": 352
        },
        "id": "k4VViDHoJJPc",
        "outputId": "2542b609-3ffc-4646-8895-79babf1b5db1"
      },
      "execution_count": 35,
      "outputs": [
        {
          "output_type": "stream",
          "name": "stdout",
          "text": [
            "     Training Set\n",
            "Setosa: 39.000000\n",
            "Versicolour: 43.000000\n",
            "Virginica: 38.000000\n"
          ]
        },
        {
          "output_type": "execute_result",
          "data": {
            "text/plain": [
              "<matplotlib.axes._subplots.AxesSubplot at 0x7fa1c63dac50>"
            ]
          },
          "metadata": {},
          "execution_count": 35
        },
        {
          "output_type": "display_data",
          "data": {
            "text/plain": [
              "<Figure size 432x288 with 1 Axes>"
            ],
            "image/png": "[encoded data removed]"
          },
          "metadata": {
            "needs_background": "light"
          }
        }
      ]
    },
    {
      "cell_type": "code",
      "source": [
        "#Thống kê SL nhãn trên test\n",
        "print('      Test Set')\n",
        "test_setosa=X_test[y_test==0,:]\n",
        "print ('Setosa: %f' %len(test_setosa))\n",
        "test_Versicolour=X_test[y_test==1,:]\n",
        "print ('Versicolour: %f' %len(test_Versicolour))\n",
        "test_Virginica=X_test[y_test==2,:]\n",
        "print ('Virginica: %f' %len(test_Virginica))\n",
        "\n",
        "count = np.unique(y_test, return_counts=True)\n",
        "sns.barplot(x=count[0], y=count[1])"
      ],
      "metadata": {
        "colab": {
          "base_uri": "https://localhost:8080/",
          "height": 352
        },
        "id": "X_D29v8WWdYw",
        "outputId": "65bedbaa-366d-4615-d593-26ed04ce06f7"
      },
      "execution_count": 36,
      "outputs": [
        {
          "output_type": "stream",
          "name": "stdout",
          "text": [
            "      Test Set\n",
            "Setosa: 11.000000\n",
            "Versicolour: 7.000000\n",
            "Virginica: 12.000000\n"
          ]
        },
        {
          "output_type": "execute_result",
          "data": {
            "text/plain": [
              "<matplotlib.axes._subplots.AxesSubplot at 0x7fa1c636a710>"
            ]
          },
          "metadata": {},
          "execution_count": 36
        },
        {
          "output_type": "display_data",
          "data": {
            "text/plain": [
              "<Figure size 432x288 with 1 Axes>"
            ],
            "image/png": "[encoded data removed]"
          },
          "metadata": {
            "needs_background": "light"
          }
        }
      ]
    },
    {
      "cell_type": "code",
      "source": [
        "#------Bài 2: Huấn luyện mô hình LogisRegress---------\n",
        "from sklearn.linear_model import LogisticRegression\n",
        "model = LogisticRegression()\n",
        "model.fit(X_train, y_train)\n",
        "\n",
        "y_pred = model.predict(X_test) \n",
        "# Tính độ chính xác\n",
        "from sklearn.metrics import accuracy_score\n",
        "accuracy_Logis=accuracy_score(y_test, y_pred)*100"
      ],
      "metadata": {
        "id": "AsB5mAbtr3z3"
      },
      "execution_count": 6,
      "outputs": []
    },
    {
      "cell_type": "code",
      "source": [
        "#------Bài 3: Huấn luyện mô hình KNN -> SS độ chính xác với LR\n",
        "from sklearn.neighbors import KNeighborsClassifier\n",
        "classifier = KNeighborsClassifier(n_neighbors=8)\n",
        "classifier.fit(X_train, y_train)\n",
        "\n",
        "y_pred_KNN = classifier.predict(X_test)\n",
        "# Tính độ chính xác\n",
        "accuracy_KNN=accuracy_score(y_pred_KNN, y_test)*100\n",
        "print('KNN accuracy: %f' %accuracy_KNN)\n",
        "print('Logis accuracy: %f' %accuracy_Logis)\n"
      ],
      "metadata": {
        "colab": {
          "base_uri": "https://localhost:8080/"
        },
        "id": "7i9sCvCc-48x",
        "outputId": "5408bec8-d010-4005-8cab-6a8b239c465b"
      },
      "execution_count": 7,
      "outputs": [
        {
          "output_type": "stream",
          "name": "stdout",
          "text": [
            "KNN accuracy: 66.666667\n",
            "Logis accuracy: 76.666667\n"
          ]
        }
      ]
    },
    {
      "cell_type": "code",
      "source": [
        "#---Bài 4: Đánh giá 2 mô hình = precision_score, recall_score\n",
        "#----------và f1_score sử dụng macro average.\n",
        "from sklearn.metrics import precision_score\n",
        "from sklearn.metrics import recall_score\n",
        "from sklearn.metrics import f1_score\n",
        "\n",
        "# Mô hình LogisticRegress\n",
        "print('   LogisticRegress')\n",
        "        # Tính precision tp / (tp + fp)\n",
        "precision = precision_score(y_test, y_pred, average='macro')\n",
        "print('Precision: %f' % precision)\n",
        "        # Tính recall: tp / (tp + fn)\n",
        "recall = recall_score(y_test, y_pred, average='macro')\n",
        "print('Recall: %f' % recall)\n",
        "        # Tính f1: 2 tp / (2 tp + fp + fn)\n",
        "f1 = f1_score(y_test, y_pred, average='macro')\n",
        "print('F1 score: %f' % f1)\n",
        "\n",
        "# Mô hình KNN\n",
        "print('       KNN')\n",
        "        # Tính precision tp / (tp + fp)\n",
        "precision = precision_score(y_test, y_pred_KNN, average='macro')\n",
        "print('Precision: %f' % precision)\n",
        "        # Tính recall: tp / (tp + fn)\n",
        "recall = recall_score(y_test, y_pred_KNN, average='macro')\n",
        "print('Recall: %f' % recall)\n",
        "        # Tính f1: 2 tp / (2 tp + fp + fn)\n",
        "f1 = f1_score(y_test, y_pred_KNN, average='macro')\n",
        "print('F1 score: %f' % f1)"
      ],
      "metadata": {
        "colab": {
          "base_uri": "https://localhost:8080/"
        },
        "id": "26Q_mgMuF2-C",
        "outputId": "46483e58-7d69-4943-8d4a-78c99242e9a9"
      },
      "execution_count": 8,
      "outputs": [
        {
          "output_type": "stream",
          "name": "stdout",
          "text": [
            "   LogisticRegress\n",
            "Precision: 0.785714\n",
            "Recall: 0.785714\n",
            "F1 score: 0.754386\n",
            "       KNN\n",
            "Precision: 0.683761\n",
            "Recall: 0.682540\n",
            "F1 score: 0.648148\n"
          ]
        }
      ]
    }
  ]
}